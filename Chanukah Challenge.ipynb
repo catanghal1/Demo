{
 "cells": [
  {
   "cell_type": "code",
   "execution_count": 1,
   "metadata": {},
   "outputs": [
    {
     "name": "stdout",
     "output_type": "stream",
     "text": [
      "Input Number of Dataset:3\n",
      "Please enter number of days in line 1:8\n",
      "The output of line 1: 44\n",
      "Please enter number of days in line 2:1\n",
      "The output of line 2: 2\n",
      "Please enter number of days in line 3:10\n",
      "The output of line 3: 65\n"
     ]
    }
   ],
   "source": [
    "P = input(\"Input Number of Dataset:\")\n",
    "P = int(P)\n",
    "\n",
    "if (P >= 1) and (P <= 10000):\n",
    "    for x in range(P):\n",
    "        x = x+1\n",
    "        x = str(x)\n",
    "        N = int(input(\"Please enter number of days in line \" + x + \":\"))\n",
    "        if (N >= 1) and (N <= 10000):\n",
    "            Candles = 0 \n",
    "            for K in range(2, N + 2):\n",
    "\n",
    "                Candles = Candles + K\n",
    "  \n",
    "            print(\"The output of line \" + x + \":\", Candles)\n",
    "        else:\n",
    "            print(\"Input Between 1 to 10,0000\")\n",
    "            \n",
    "else:\n",
    "    print(\"Input Between 1 to 10,0000\")\n"
   ]
  },
  {
   "cell_type": "code",
   "execution_count": null,
   "metadata": {},
   "outputs": [],
   "source": []
  }
 ],
 "metadata": {
  "kernelspec": {
   "display_name": "Python 3",
   "language": "python",
   "name": "python3"
  },
  "language_info": {
   "codemirror_mode": {
    "name": "ipython",
    "version": 3
   },
   "file_extension": ".py",
   "mimetype": "text/x-python",
   "name": "python",
   "nbconvert_exporter": "python",
   "pygments_lexer": "ipython3",
   "version": "3.8.5"
  }
 },
 "nbformat": 4,
 "nbformat_minor": 4
}
